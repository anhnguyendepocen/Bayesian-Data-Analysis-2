

Consider the example of coin flips. W are considering three examples that either our coin is an unbiased one with $ P(Head) $ = 0.5 or our coin can be unbiased where we assume only two possibilities for the sake of simplicity that $P(Head)$=0.25 or $P(Head)$=0.75
